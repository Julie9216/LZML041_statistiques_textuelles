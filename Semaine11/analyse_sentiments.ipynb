{
 "cells": [
  {
   "cell_type": "code",
   "execution_count": null,
   "id": "0d4b68d5",
   "metadata": {},
   "outputs": [],
   "source": [
    "import nltk\n",
    "import pandas as pd\n",
    "from nltk.corpus import stopwords\n",
    "stop_words  = set(stopwords.words('english'))"
   ]
  },
  {
   "cell_type": "markdown",
   "id": "2dcf0879",
   "metadata": {},
   "source": [
    "# Exploiter l’analyseur de sentiment déjà entraîné fourni par NLTK"
   ]
  },
  {
   "cell_type": "markdown",
   "id": "2fdeff08",
   "metadata": {},
   "source": [
    "NLTK intègre déjà un outil d’analyse de sentiment prêt à l’emploi appelé VADER (Valence Aware Dictionary and sEntiment Reasoner).\n",
    "\n",
    "Un dictionnaire intelligent conçu pour détecter les sentiments exprimés dans un texte."
   ]
  },
  {
   "cell_type": "code",
   "execution_count": null,
   "id": "d5385df2",
   "metadata": {},
   "outputs": [],
   "source": [
    "from nltk.sentiment.vader import SentimentIntensityAnalyzer\n",
    "\n",
    "sia = SentimentIntensityAnalyzer()\n",
    "sia.polarity_scores(\"Wow, NLTK is really powerful!\")"
   ]
  },
  {
   "cell_type": "code",
   "execution_count": null,
   "id": "f4f419cc",
   "metadata": {},
   "outputs": [],
   "source": [
    "df = pd.read_csv('https://raw.githubusercontent.com/pycaret/pycaret/master/datasets/amazon.csv')\n",
    "df"
   ]
  },
  {
   "cell_type": "code",
   "execution_count": null,
   "id": "e3e15377",
   "metadata": {},
   "outputs": [],
   "source": [
    "import re\n",
    "# import contractions\n",
    "from nltk.tokenize import word_tokenize\n",
    "from nltk.stem import WordNetLemmatizer\n",
    "\n",
    "def preprocess_text(text):\n",
    "    tokens = word_tokenize(text.lower())\n",
    "    filtered_tokens = [token for token in tokens if token not in stopwords.words('english')]\n",
    "    lemmatizer = WordNetLemmatizer()\n",
    "    lemmatized_tokens = [lemmatizer.lemmatize(token) for token in filtered_tokens]\n",
    "    processed_text = ' '.join(lemmatized_tokens)\n",
    "\n",
    "    return processed_text"
   ]
  },
  {
   "cell_type": "code",
   "execution_count": null,
   "id": "5befc8a3",
   "metadata": {},
   "outputs": [],
   "source": [
    "df['review_propre'] = df['reviewText'].apply(preprocess_text)"
   ]
  },
  {
   "cell_type": "code",
   "execution_count": null,
   "id": "43fbfbc0",
   "metadata": {},
   "outputs": [],
   "source": [
    "# initialisation de NLTK sentiment analyzer\n",
    "analyzer = SentimentIntensityAnalyzer()"
   ]
  },
  {
   "cell_type": "code",
   "execution_count": null,
   "id": "f00e6675",
   "metadata": {},
   "outputs": [],
   "source": [
    "print(analyzer.polarity_scores(df['review_propre'][0]), df['review_propre'][0])"
   ]
  },
  {
   "cell_type": "code",
   "execution_count": null,
   "id": "c99e6754",
   "metadata": {},
   "outputs": [],
   "source": [
    "def get_sentiment(text):\n",
    "    scores = analyzer.polarity_scores(text)\n",
    "    sentiment = 1 if scores['pos'] > 0 else 0\n",
    "    return sentiment"
   ]
  },
  {
   "cell_type": "code",
   "execution_count": null,
   "id": "4cef20d3",
   "metadata": {},
   "outputs": [],
   "source": [
    "df['sentiment'] = df['review_propre'].apply(get_sentiment)"
   ]
  }
 ],
 "metadata": {
  "language_info": {
   "name": "python"
  }
 },
 "nbformat": 4,
 "nbformat_minor": 5
}
