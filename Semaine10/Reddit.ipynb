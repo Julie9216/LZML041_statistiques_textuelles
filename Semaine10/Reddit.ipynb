{
 "cells": [
  {
   "cell_type": "markdown",
   "metadata": {},
   "source": [
    "# 1 - Build your corpus from Reddit"
   ]
  },
  {
   "cell_type": "markdown",
   "metadata": {},
   "source": [
    "\n",
    "## Web scraping (à nouveau) Récupérer les posts directement d'internet\n",
    "PRAW, an acronym for \"Python Reddit API Wrapper\", is a Python package that allows for simple access to Reddit's API. PRAW aims to be easy to use and internally follows all of Reddit's API rules. With PRAW there's no need to introduce sleep calls in your code. Give your client an appropriate user agent and you're set.\n",
    "\n",
    "#https://scrapingrobot.com/blog/web-scraping-reddit/"
   ]
  },
  {
   "cell_type": "markdown",
   "metadata": {},
   "source": [
    "### 1 - Installer PRAW : Python Reddit API Wrapper"
   ]
  },
  {
   "cell_type": "code",
   "execution_count": null,
   "metadata": {},
   "outputs": [],
   "source": [
    "#!pip install praw\n",
    "\n",
    "import praw\n",
    "import pandas as pd\n",
    "import datetime"
   ]
  },
  {
   "cell_type": "markdown",
   "metadata": {},
   "source": [
    "### 2 - créer une application sur le site Reddit\n",
    "--> you need to create or log into your account on Reddit.\n",
    "\n",
    "--> click on “Are you a developer? Create an app…”\n",
    "\n",
    "https://www.reddit.com/prefs/apps\n",
    "\n",
    "Suivre le Tuto suivant :\n",
    "https://towardsdatascience.com/scraping-reddit-data-1c0af3040768\n"
   ]
  },
  {
   "cell_type": "code",
   "execution_count": null,
   "metadata": {},
   "outputs": [],
   "source": [
    "# noter les identifiants de votre apploication personnelle\n",
    "my_client_id = \"\"\n",
    "\n",
    "my_client_secret = \"\"\n",
    "\n",
    "my_user_agent = \"\""
   ]
  },
  {
   "cell_type": "code",
   "execution_count": 4,
   "metadata": {},
   "outputs": [],
   "source": [
    "# Initialiser votre instance Reddit \n",
    "reddit = praw.Reddit(client_id=my_client_id, client_secret=my_client_secret, user_agent=my_user_agent)"
   ]
  },
  {
   "cell_type": "markdown",
   "metadata": {},
   "source": [
    "### 3.1 - Extraitre les commentaires d'un subReddit "
   ]
  },
  {
   "cell_type": "code",
   "execution_count": null,
   "metadata": {},
   "outputs": [],
   "source": [
    "\n",
    "posts = []\n",
    "ml_subreddit = reddit.subreddit('ChatGPT')\n",
    "for post in ml_subreddit.hot(limit=10):\n",
    "    posts.append([ post.title, post.score, post.id, post.subreddit, post.url, \n",
    "                  post.num_comments, post.selftext, datetime.datetime.fromtimestamp(post.created)])\n",
    "df = pd.DataFrame(posts,columns=['title', 'score', 'id', 'subreddit', 'url', 'num_comments', \n",
    "                                 'body', 'created'])\n"
   ]
  },
  {
   "cell_type": "code",
   "execution_count": 5,
   "metadata": {},
   "outputs": [],
   "source": [
    "ml_subreddit = reddit.subreddit('ChatGPT')\n",
    "posts = []\n",
    "for post in ml_subreddit.hot(limit=3):\n",
    "    posts.append([post.id, post.author.name if post.author else \"Deleted\", post.title, post.selftext, post.subreddit, \n",
    "                  post.url, post.num_comments, datetime.datetime.fromtimestamp(post.created),\n",
    "                 post.ups, post.downs, post.score])\n",
    "df = pd.DataFrame(posts,columns=['id', 'author','title','Text', 'subreddit', \n",
    "                                 'url', 'num_comments', 'created', \n",
    "                                 'upvotes','downvotes', 'score'])"
   ]
  },
  {
   "cell_type": "code",
   "execution_count": 6,
   "metadata": {},
   "outputs": [
    {
     "data": {
      "text/html": [
       "<div>\n",
       "<style scoped>\n",
       "    .dataframe tbody tr th:only-of-type {\n",
       "        vertical-align: middle;\n",
       "    }\n",
       "\n",
       "    .dataframe tbody tr th {\n",
       "        vertical-align: top;\n",
       "    }\n",
       "\n",
       "    .dataframe thead th {\n",
       "        text-align: right;\n",
       "    }\n",
       "</style>\n",
       "<table border=\"1\" class=\"dataframe\">\n",
       "  <thead>\n",
       "    <tr style=\"text-align: right;\">\n",
       "      <th></th>\n",
       "      <th>id</th>\n",
       "      <th>author</th>\n",
       "      <th>title</th>\n",
       "      <th>Text</th>\n",
       "      <th>subreddit</th>\n",
       "      <th>url</th>\n",
       "      <th>num_comments</th>\n",
       "      <th>created</th>\n",
       "      <th>upvotes</th>\n",
       "      <th>downvotes</th>\n",
       "      <th>score</th>\n",
       "    </tr>\n",
       "  </thead>\n",
       "  <tbody>\n",
       "    <tr>\n",
       "      <th>0</th>\n",
       "      <td>1il23g4</td>\n",
       "      <td>HOLUPREDICTIONS</td>\n",
       "      <td>Calling AI Researchers &amp; Startup Founders To J...</td>\n",
       "      <td>r/ChatGPT hit 9 million members today! So we h...</td>\n",
       "      <td>ChatGPT</td>\n",
       "      <td>https://www.reddit.com/r/ChatGPT/comments/1il2...</td>\n",
       "      <td>106</td>\n",
       "      <td>2025-02-09 01:28:24</td>\n",
       "      <td>67</td>\n",
       "      <td>0</td>\n",
       "      <td>67</td>\n",
       "    </tr>\n",
       "    <tr>\n",
       "      <th>1</th>\n",
       "      <td>1ggixzy</td>\n",
       "      <td>OpenAI</td>\n",
       "      <td>AMA with OpenAI’s Sam Altman, Kevin Weil, Srin...</td>\n",
       "      <td>Consider this AMA our Reddit launch.\\n\\nAsk us...</td>\n",
       "      <td>ChatGPT</td>\n",
       "      <td>https://www.reddit.com/r/ChatGPT/comments/1ggi...</td>\n",
       "      <td>4845</td>\n",
       "      <td>2024-10-31 17:40:38</td>\n",
       "      <td>4065</td>\n",
       "      <td>0</td>\n",
       "      <td>4065</td>\n",
       "    </tr>\n",
       "    <tr>\n",
       "      <th>2</th>\n",
       "      <td>1jqeo9u</td>\n",
       "      <td>flyingupvotes</td>\n",
       "      <td>American auto makers after tariffs</td>\n",
       "      <td>Fred. Move over. I’m</td>\n",
       "      <td>ChatGPT</td>\n",
       "      <td>https://i.redd.it/e7v06shzhlse1.jpeg</td>\n",
       "      <td>76</td>\n",
       "      <td>2025-04-03 12:15:29</td>\n",
       "      <td>1336</td>\n",
       "      <td>0</td>\n",
       "      <td>1336</td>\n",
       "    </tr>\n",
       "  </tbody>\n",
       "</table>\n",
       "</div>"
      ],
      "text/plain": [
       "        id           author  \\\n",
       "0  1il23g4  HOLUPREDICTIONS   \n",
       "1  1ggixzy           OpenAI   \n",
       "2  1jqeo9u    flyingupvotes   \n",
       "\n",
       "                                               title  \\\n",
       "0  Calling AI Researchers & Startup Founders To J...   \n",
       "1  AMA with OpenAI’s Sam Altman, Kevin Weil, Srin...   \n",
       "2                 American auto makers after tariffs   \n",
       "\n",
       "                                                Text subreddit  \\\n",
       "0  r/ChatGPT hit 9 million members today! So we h...   ChatGPT   \n",
       "1  Consider this AMA our Reddit launch.\\n\\nAsk us...   ChatGPT   \n",
       "2                               Fred. Move over. I’m   ChatGPT   \n",
       "\n",
       "                                                 url  num_comments  \\\n",
       "0  https://www.reddit.com/r/ChatGPT/comments/1il2...           106   \n",
       "1  https://www.reddit.com/r/ChatGPT/comments/1ggi...          4845   \n",
       "2               https://i.redd.it/e7v06shzhlse1.jpeg            76   \n",
       "\n",
       "              created  upvotes  downvotes  score  \n",
       "0 2025-02-09 01:28:24       67          0     67  \n",
       "1 2024-10-31 17:40:38     4065          0   4065  \n",
       "2 2025-04-03 12:15:29     1336          0   1336  "
      ]
     },
     "execution_count": 6,
     "metadata": {},
     "output_type": "execute_result"
    }
   ],
   "source": [
    "df.head(3)"
   ]
  },
  {
   "cell_type": "code",
   "execution_count": 7,
   "metadata": {},
   "outputs": [],
   "source": [
    "# to save to csv\n",
    "df.to_csv('Reddit_ChatGPT_test.csv')"
   ]
  },
  {
   "cell_type": "code",
   "execution_count": 8,
   "metadata": {},
   "outputs": [
    {
     "name": "stdout",
     "output_type": "stream",
     "text": [
      "Consider this AMA our Reddit launch.\n",
      "\n",
      "Ask us anything about:\n",
      "\n",
      "* ChatGPT search\n",
      "* OpenAI o1 and o1-mini\n",
      "* Advanced Voice\n",
      "* Research roadmap\n",
      "* Future of computer agents\n",
      "* AGI\n",
      "* What’s coming next\n",
      "* Whatever else is on your mind (within reason)\n",
      "\n",
      "Participating in the AMA: \n",
      "\n",
      "* sam altman — ceo (u/samaltman)\n",
      "* Kevin Weil — Chief Product Officer (u/kevinweil)\n",
      "* Mark Chen — SVP of Research (u/markchen90)\n",
      "* ​​Srinivas Narayanan —VP Engineering (u/dataisf)\n",
      "* Jakub Pachocki — Chief Scientist\n",
      "\n",
      "We'll be online from 10:30am -12:00pm PT to answer questions. \n",
      "\n",
      "**PROOF**: [https://x.com/OpenAI/status/1852041839567867970](https://x.com/OpenAI/status/1852041839567867970)  \n",
      "Username: u/openai\n",
      "\n",
      "\n",
      "\n",
      ">Update: that's all the time we have, but we'll be back for more in the future. thank you for the great questions. everyone had a lot of fun! and no, ChatGPT did not write this.\n"
     ]
    }
   ],
   "source": [
    "print(df['Text'][1])"
   ]
  },
  {
   "cell_type": "code",
   "execution_count": 6,
   "metadata": {},
   "outputs": [],
   "source": [
    "import numpy as np\n",
    "import regex as re\n",
    "from collections import Counter"
   ]
  },
  {
   "cell_type": "code",
   "execution_count": null,
   "metadata": {},
   "outputs": [],
   "source": [
    "words = df['Text'].apply(lambda x:str(x).split())\n",
    "top=Counter([item for sublist in words for item in sublist])"
   ]
  },
  {
   "cell_type": "code",
   "execution_count": null,
   "metadata": {},
   "outputs": [],
   "source": [
    "#words[1]"
   ]
  },
  {
   "cell_type": "code",
   "execution_count": 11,
   "metadata": {},
   "outputs": [
    {
     "data": {
      "text/plain": [
       "[('*', 16),\n",
       " ('the', 8),\n",
       " ('to', 6),\n",
       " ('this', 4),\n",
       " ('and', 4),\n",
       " ('ChatGPT', 4),\n",
       " ('—', 4),\n",
       " ('AI', 3),\n",
       " ('✓', 3),\n",
       " ('on', 3),\n",
       " ('for', 3),\n",
       " ('be', 3),\n",
       " ('in', 3),\n",
       " ('of', 3),\n",
       " ('9', 2),\n",
       " ('million', 2),\n",
       " ('members', 2),\n",
       " ('we', 2),\n",
       " ('is', 2),\n",
       " ('from', 2),\n",
       " ('your', 2)]"
      ]
     },
     "execution_count": 11,
     "metadata": {},
     "output_type": "execute_result"
    }
   ],
   "source": [
    "top.most_common(21)"
   ]
  },
  {
   "cell_type": "markdown",
   "metadata": {},
   "source": [
    "### 3.2 - Extraitre tous les commentaires de plusieurs subreddits"
   ]
  },
  {
   "cell_type": "code",
   "execution_count": 8,
   "metadata": {},
   "outputs": [],
   "source": [
    "# définir la liste à extraire\n",
    "subreddit_list = ['Python', 'ChatGPT','dataisbeautiful','IAmA','programmation','actutech','CryptoFR']\n",
    "posts = []\n",
    "\n",
    "# Faire une boucle pour extraire les commentaires\n",
    "for subreddit_name in subreddit_list:\n",
    "    subreddit = reddit.subreddit(subreddit_name)\n",
    "\n",
    "    for post in subreddit.hot(limit=7000):\n",
    "        posts.append([post.id, post.author.name if post.author else \"Deleted\", post.title, post.selftext, post.subreddit, \n",
    "                      post.url, post.num_comments, datetime.datetime.fromtimestamp(post.created),\n",
    "                     post.ups, post.downs, post.score])\n",
    "\n",
    "df = pd.DataFrame(posts,columns=['id', 'author','title','Text', 'subreddit', \n",
    "                                     'url', 'num_comments', 'created', \n",
    "                                     'upvotes','downvotes', 'score'])"
   ]
  },
  {
   "cell_type": "code",
   "execution_count": 15,
   "metadata": {},
   "outputs": [
    {
     "data": {
      "text/plain": [
       "(5266, 12)"
      ]
     },
     "execution_count": 15,
     "metadata": {},
     "output_type": "execute_result"
    }
   ],
   "source": [
    "df.shape"
   ]
  },
  {
   "cell_type": "code",
   "execution_count": 11,
   "metadata": {},
   "outputs": [
    {
     "data": {
      "text/plain": [
       "id              5266\n",
       "author          2973\n",
       "title           5203\n",
       "Text            3528\n",
       "subreddit          7\n",
       "url             5263\n",
       "num_comments     312\n",
       "created         5264\n",
       "upvotes          564\n",
       "downvotes          1\n",
       "score            564\n",
       "dtype: int64"
      ]
     },
     "execution_count": 11,
     "metadata": {},
     "output_type": "execute_result"
    }
   ],
   "source": [
    "df.nunique()"
   ]
  },
  {
   "cell_type": "code",
   "execution_count": 12,
   "metadata": {},
   "outputs": [
    {
     "data": {
      "text/html": [
       "<div>\n",
       "<style scoped>\n",
       "    .dataframe tbody tr th:only-of-type {\n",
       "        vertical-align: middle;\n",
       "    }\n",
       "\n",
       "    .dataframe tbody tr th {\n",
       "        vertical-align: top;\n",
       "    }\n",
       "\n",
       "    .dataframe thead th {\n",
       "        text-align: right;\n",
       "    }\n",
       "</style>\n",
       "<table border=\"1\" class=\"dataframe\">\n",
       "  <thead>\n",
       "    <tr style=\"text-align: right;\">\n",
       "      <th></th>\n",
       "      <th>id</th>\n",
       "      <th>author</th>\n",
       "      <th>title</th>\n",
       "      <th>Text</th>\n",
       "      <th>subreddit</th>\n",
       "      <th>url</th>\n",
       "      <th>num_comments</th>\n",
       "      <th>created</th>\n",
       "      <th>upvotes</th>\n",
       "      <th>downvotes</th>\n",
       "      <th>score</th>\n",
       "    </tr>\n",
       "  </thead>\n",
       "  <tbody>\n",
       "    <tr>\n",
       "      <th>0</th>\n",
       "      <td>1jmzwh4</td>\n",
       "      <td>AutoModerator</td>\n",
       "      <td>Sunday Daily Thread: What's everyone working o...</td>\n",
       "      <td># Weekly Thread: What's Everyone Working On Th...</td>\n",
       "      <td>Python</td>\n",
       "      <td>https://www.reddit.com/r/Python/comments/1jmzw...</td>\n",
       "      <td>5</td>\n",
       "      <td>2025-03-30 01:00:18</td>\n",
       "      <td>5</td>\n",
       "      <td>0</td>\n",
       "      <td>5</td>\n",
       "    </tr>\n",
       "    <tr>\n",
       "      <th>1</th>\n",
       "      <td>1jq3vwj</td>\n",
       "      <td>AutoModerator</td>\n",
       "      <td>Thursday Daily Thread: Python Careers, Courses...</td>\n",
       "      <td># Weekly Thread: Professional Use, Jobs, and E...</td>\n",
       "      <td>Python</td>\n",
       "      <td>https://www.reddit.com/r/Python/comments/1jq3v...</td>\n",
       "      <td>0</td>\n",
       "      <td>2025-04-03 02:00:30</td>\n",
       "      <td>5</td>\n",
       "      <td>0</td>\n",
       "      <td>5</td>\n",
       "    </tr>\n",
       "    <tr>\n",
       "      <th>2</th>\n",
       "      <td>1jqe33f</td>\n",
       "      <td>a_deneb</td>\n",
       "      <td>[UPDATE] safe-result 4.0: Better memory usage,...</td>\n",
       "      <td>Hi Peeps,\\n\\n\\n\\n[safe-result](https://github....</td>\n",
       "      <td>Python</td>\n",
       "      <td>https://www.reddit.com/r/Python/comments/1jqe3...</td>\n",
       "      <td>14</td>\n",
       "      <td>2025-04-03 11:38:11</td>\n",
       "      <td>70</td>\n",
       "      <td>0</td>\n",
       "      <td>70</td>\n",
       "    </tr>\n",
       "    <tr>\n",
       "      <th>3</th>\n",
       "      <td>1jqntn9</td>\n",
       "      <td>lrtDam</td>\n",
       "      <td>I wrote on post on why you should start using ...</td>\n",
       "      <td>There has been some discussions about pandas a...</td>\n",
       "      <td>Python</td>\n",
       "      <td>https://www.reddit.com/r/Python/comments/1jqnt...</td>\n",
       "      <td>0</td>\n",
       "      <td>2025-04-03 19:00:48</td>\n",
       "      <td>9</td>\n",
       "      <td>0</td>\n",
       "      <td>9</td>\n",
       "    </tr>\n",
       "    <tr>\n",
       "      <th>4</th>\n",
       "      <td>1jqf5zq</td>\n",
       "      <td>martian7r</td>\n",
       "      <td>Real-Time Speech-to-Speech Chatbot: Whisper, L...</td>\n",
       "      <td>Hi everyone, Please have a look at the **Casca...</td>\n",
       "      <td>Python</td>\n",
       "      <td>https://www.reddit.com/r/Python/comments/1jqf5...</td>\n",
       "      <td>16</td>\n",
       "      <td>2025-04-03 12:46:03</td>\n",
       "      <td>12</td>\n",
       "      <td>0</td>\n",
       "      <td>12</td>\n",
       "    </tr>\n",
       "  </tbody>\n",
       "</table>\n",
       "</div>"
      ],
      "text/plain": [
       "        id         author                                              title  \\\n",
       "0  1jmzwh4  AutoModerator  Sunday Daily Thread: What's everyone working o...   \n",
       "1  1jq3vwj  AutoModerator  Thursday Daily Thread: Python Careers, Courses...   \n",
       "2  1jqe33f        a_deneb  [UPDATE] safe-result 4.0: Better memory usage,...   \n",
       "3  1jqntn9         lrtDam  I wrote on post on why you should start using ...   \n",
       "4  1jqf5zq      martian7r  Real-Time Speech-to-Speech Chatbot: Whisper, L...   \n",
       "\n",
       "                                                Text subreddit  \\\n",
       "0  # Weekly Thread: What's Everyone Working On Th...    Python   \n",
       "1  # Weekly Thread: Professional Use, Jobs, and E...    Python   \n",
       "2  Hi Peeps,\\n\\n\\n\\n[safe-result](https://github....    Python   \n",
       "3  There has been some discussions about pandas a...    Python   \n",
       "4  Hi everyone, Please have a look at the **Casca...    Python   \n",
       "\n",
       "                                                 url  num_comments  \\\n",
       "0  https://www.reddit.com/r/Python/comments/1jmzw...             5   \n",
       "1  https://www.reddit.com/r/Python/comments/1jq3v...             0   \n",
       "2  https://www.reddit.com/r/Python/comments/1jqe3...            14   \n",
       "3  https://www.reddit.com/r/Python/comments/1jqnt...             0   \n",
       "4  https://www.reddit.com/r/Python/comments/1jqf5...            16   \n",
       "\n",
       "              created  upvotes  downvotes  score  \n",
       "0 2025-03-30 01:00:18        5          0      5  \n",
       "1 2025-04-03 02:00:30        5          0      5  \n",
       "2 2025-04-03 11:38:11       70          0     70  \n",
       "3 2025-04-03 19:00:48        9          0      9  \n",
       "4 2025-04-03 12:46:03       12          0     12  "
      ]
     },
     "execution_count": 12,
     "metadata": {},
     "output_type": "execute_result"
    }
   ],
   "source": [
    "df.head()"
   ]
  },
  {
   "cell_type": "code",
   "execution_count": null,
   "metadata": {},
   "outputs": [],
   "source": [
    "# to save to csv\n",
    "df.to_csv('Reddit_ChatGPT_test_avec_commentaires.csv') # sauvegarder les données dans un fichier csv\n"
   ]
  },
  {
   "cell_type": "markdown",
   "metadata": {},
   "source": [
    "### 3.3 - Extraitre les commentaires de plusieurs subreddits contenant un terme spécifique"
   ]
  },
  {
   "cell_type": "code",
   "execution_count": null,
   "metadata": {},
   "outputs": [],
   "source": [
    "# définir la liste à extraire\n",
    "subreddit_list = ['FranceInsoumise', 'Zemmour','AssembleeNationale','Thinkerview',\n",
    "                  'actualite','konbini','AgenceFrancePresse','franceinfo']\n",
    "posts = []\n",
    "# définir le mot recherché\n",
    "keyword = \"macron\"\n",
    "\n",
    "# Faire une boucle pour extraire les commentaires\n",
    "for subreddit_name in subreddit_list:\n",
    "    subreddit = reddit.subreddit(subreddit_name)\n",
    "    \n",
    "    for post in subreddit.search(\"macron\",limit=7000):\n",
    "        #si keyword est contenu dans le titre du post\n",
    "     #   if keyword.casefold() in post.title.casefold() : \n",
    "     \n",
    "            #collecter le post dans notre corpus\n",
    "        posts.append([post.id, post.author.name if post.author else \"Deleted\", post.title, \n",
    "                          post.selftext, post.subreddit, post.url,\n",
    "                          post.num_comments, datetime.datetime.fromtimestamp(post.created),\n",
    "                          post.ups, post.downs, post.score])\n",
    "\n",
    "df = pd.DataFrame(posts,columns=['id', 'author','title','Text', 'subreddit', \n",
    "                                     'url', 'num_comments', 'created', \n",
    "                                     'upvotes','downvotes', 'score'])"
   ]
  },
  {
   "cell_type": "code",
   "execution_count": null,
   "metadata": {},
   "outputs": [],
   "source": [
    "#for submission in reddit.subreddit(\"FranceInsoumise\").search(\"macron\"):\n",
    " #   print(submission.title)"
   ]
  },
  {
   "cell_type": "code",
   "execution_count": 27,
   "metadata": {},
   "outputs": [
    {
     "data": {
      "text/plain": [
       "(1004, 11)"
      ]
     },
     "execution_count": 27,
     "metadata": {},
     "output_type": "execute_result"
    }
   ],
   "source": [
    "df.shape"
   ]
  },
  {
   "cell_type": "code",
   "execution_count": 28,
   "metadata": {},
   "outputs": [
    {
     "data": {
      "text/plain": [
       "id              1004\n",
       "author            80\n",
       "title            987\n",
       "Text              15\n",
       "subreddit          7\n",
       "url             1002\n",
       "num_comments      74\n",
       "created         1003\n",
       "upvotes           72\n",
       "downvotes          1\n",
       "score             72\n",
       "dtype: int64"
      ]
     },
     "execution_count": 28,
     "metadata": {},
     "output_type": "execute_result"
    }
   ],
   "source": [
    "df.nunique()"
   ]
  },
  {
   "cell_type": "code",
   "execution_count": 29,
   "metadata": {},
   "outputs": [],
   "source": [
    "# to save to csv\n",
    "df.to_csv('Reddit_macron.csv')"
   ]
  },
  {
   "cell_type": "code",
   "execution_count": null,
   "metadata": {},
   "outputs": [],
   "source": []
  },
  {
   "cell_type": "code",
   "execution_count": 4,
   "metadata": {},
   "outputs": [
    {
     "data": {
      "text/html": [
       "<div>\n",
       "<style scoped>\n",
       "    .dataframe tbody tr th:only-of-type {\n",
       "        vertical-align: middle;\n",
       "    }\n",
       "\n",
       "    .dataframe tbody tr th {\n",
       "        vertical-align: top;\n",
       "    }\n",
       "\n",
       "    .dataframe thead th {\n",
       "        text-align: right;\n",
       "    }\n",
       "</style>\n",
       "<table border=\"1\" class=\"dataframe\">\n",
       "  <thead>\n",
       "    <tr style=\"text-align: right;\">\n",
       "      <th></th>\n",
       "      <th>id</th>\n",
       "      <th>author</th>\n",
       "      <th>title</th>\n",
       "      <th>Text</th>\n",
       "      <th>subreddit</th>\n",
       "      <th>created</th>\n",
       "      <th>score</th>\n",
       "    </tr>\n",
       "  </thead>\n",
       "  <tbody>\n",
       "    <tr>\n",
       "      <th>0</th>\n",
       "      <td>1jk8ild</td>\n",
       "      <td>Nohan07</td>\n",
       "      <td>Macron propose d'expulser les locataires des H...</td>\n",
       "      <td>NaN</td>\n",
       "      <td>FranceInsoumise</td>\n",
       "      <td>2025-03-26 11:22:51</td>\n",
       "      <td>2</td>\n",
       "    </tr>\n",
       "    <tr>\n",
       "      <th>1</th>\n",
       "      <td>1j6cwa4</td>\n",
       "      <td>Nohan07</td>\n",
       "      <td>Ukraine - Russie : Macron fait n'importe quoi !</td>\n",
       "      <td>NaN</td>\n",
       "      <td>FranceInsoumise</td>\n",
       "      <td>2025-03-08 09:34:16</td>\n",
       "      <td>2</td>\n",
       "    </tr>\n",
       "    <tr>\n",
       "      <th>2</th>\n",
       "      <td>1iuxpxt</td>\n",
       "      <td>Nohan07</td>\n",
       "      <td>Le pacte secret entre Macron et Le Pen ! – Pan...</td>\n",
       "      <td>NaN</td>\n",
       "      <td>FranceInsoumise</td>\n",
       "      <td>2025-02-21 19:20:55</td>\n",
       "      <td>3</td>\n",
       "    </tr>\n",
       "    <tr>\n",
       "      <th>3</th>\n",
       "      <td>1it9v25</td>\n",
       "      <td>Nohan07</td>\n",
       "      <td>Marine Le Pen a soutenu un ami de Macron ￼</td>\n",
       "      <td>NaN</td>\n",
       "      <td>FranceInsoumise</td>\n",
       "      <td>2025-02-19 17:39:24</td>\n",
       "      <td>5</td>\n",
       "    </tr>\n",
       "    <tr>\n",
       "      <th>4</th>\n",
       "      <td>1imtylh</td>\n",
       "      <td>Nohan07</td>\n",
       "      <td>Fichage, surveillance, traçage : le gouvernent...</td>\n",
       "      <td>NaN</td>\n",
       "      <td>FranceInsoumise</td>\n",
       "      <td>2025-02-11 09:22:52</td>\n",
       "      <td>5</td>\n",
       "    </tr>\n",
       "  </tbody>\n",
       "</table>\n",
       "</div>"
      ],
      "text/plain": [
       "        id   author                                              title Text  \\\n",
       "0  1jk8ild  Nohan07  Macron propose d'expulser les locataires des H...  NaN   \n",
       "1  1j6cwa4  Nohan07    Ukraine - Russie : Macron fait n'importe quoi !  NaN   \n",
       "2  1iuxpxt  Nohan07  Le pacte secret entre Macron et Le Pen ! – Pan...  NaN   \n",
       "3  1it9v25  Nohan07         Marine Le Pen a soutenu un ami de Macron ￼  NaN   \n",
       "4  1imtylh  Nohan07  Fichage, surveillance, traçage : le gouvernent...  NaN   \n",
       "\n",
       "         subreddit              created  score  \n",
       "0  FranceInsoumise  2025-03-26 11:22:51      2  \n",
       "1  FranceInsoumise  2025-03-08 09:34:16      2  \n",
       "2  FranceInsoumise  2025-02-21 19:20:55      3  \n",
       "3  FranceInsoumise  2025-02-19 17:39:24      5  \n",
       "4  FranceInsoumise  2025-02-11 09:22:52      5  "
      ]
     },
     "execution_count": 4,
     "metadata": {},
     "output_type": "execute_result"
    }
   ],
   "source": [
    "df = pd.read_csv(\"Reddit_macron.csv\", encoding='utf-8') # ouvrir le fichier csv\n",
    "\n",
    "#Créer un copie de Travail en choisissant uniquement les colonnes qui nous intéressent\n",
    "df_nd = df[['id','author','title','Text','subreddit','created','score']].copy()\n",
    "df_nd = df_nd.drop_duplicates().copy()\n",
    "df_nd.head()"
   ]
  },
  {
   "cell_type": "code",
   "execution_count": 5,
   "metadata": {},
   "outputs": [
    {
     "data": {
      "text/html": [
       "<div>\n",
       "<style scoped>\n",
       "    .dataframe tbody tr th:only-of-type {\n",
       "        vertical-align: middle;\n",
       "    }\n",
       "\n",
       "    .dataframe tbody tr th {\n",
       "        vertical-align: top;\n",
       "    }\n",
       "\n",
       "    .dataframe thead th {\n",
       "        text-align: right;\n",
       "    }\n",
       "</style>\n",
       "<table border=\"1\" class=\"dataframe\">\n",
       "  <thead>\n",
       "    <tr style=\"text-align: right;\">\n",
       "      <th></th>\n",
       "      <th>id</th>\n",
       "      <th>author</th>\n",
       "      <th>title</th>\n",
       "      <th>Text</th>\n",
       "      <th>subreddit</th>\n",
       "      <th>created</th>\n",
       "      <th>score</th>\n",
       "      <th>year</th>\n",
       "      <th>month</th>\n",
       "      <th>month_name</th>\n",
       "      <th>period</th>\n",
       "    </tr>\n",
       "  </thead>\n",
       "  <tbody>\n",
       "    <tr>\n",
       "      <th>0</th>\n",
       "      <td>1jk8ild</td>\n",
       "      <td>Nohan07</td>\n",
       "      <td>Macron propose d'expulser les locataires des H...</td>\n",
       "      <td>NaN</td>\n",
       "      <td>FranceInsoumise</td>\n",
       "      <td>2025-03-26 11:22:51</td>\n",
       "      <td>2</td>\n",
       "      <td>2025</td>\n",
       "      <td>3</td>\n",
       "      <td>Mar</td>\n",
       "      <td>Mar-2025</td>\n",
       "    </tr>\n",
       "    <tr>\n",
       "      <th>1</th>\n",
       "      <td>1j6cwa4</td>\n",
       "      <td>Nohan07</td>\n",
       "      <td>Ukraine - Russie : Macron fait n'importe quoi !</td>\n",
       "      <td>NaN</td>\n",
       "      <td>FranceInsoumise</td>\n",
       "      <td>2025-03-08 09:34:16</td>\n",
       "      <td>2</td>\n",
       "      <td>2025</td>\n",
       "      <td>3</td>\n",
       "      <td>Mar</td>\n",
       "      <td>Mar-2025</td>\n",
       "    </tr>\n",
       "    <tr>\n",
       "      <th>2</th>\n",
       "      <td>1iuxpxt</td>\n",
       "      <td>Nohan07</td>\n",
       "      <td>Le pacte secret entre Macron et Le Pen ! – Pan...</td>\n",
       "      <td>NaN</td>\n",
       "      <td>FranceInsoumise</td>\n",
       "      <td>2025-02-21 19:20:55</td>\n",
       "      <td>3</td>\n",
       "      <td>2025</td>\n",
       "      <td>2</td>\n",
       "      <td>Feb</td>\n",
       "      <td>Feb-2025</td>\n",
       "    </tr>\n",
       "    <tr>\n",
       "      <th>3</th>\n",
       "      <td>1it9v25</td>\n",
       "      <td>Nohan07</td>\n",
       "      <td>Marine Le Pen a soutenu un ami de Macron ￼</td>\n",
       "      <td>NaN</td>\n",
       "      <td>FranceInsoumise</td>\n",
       "      <td>2025-02-19 17:39:24</td>\n",
       "      <td>5</td>\n",
       "      <td>2025</td>\n",
       "      <td>2</td>\n",
       "      <td>Feb</td>\n",
       "      <td>Feb-2025</td>\n",
       "    </tr>\n",
       "    <tr>\n",
       "      <th>4</th>\n",
       "      <td>1imtylh</td>\n",
       "      <td>Nohan07</td>\n",
       "      <td>Fichage, surveillance, traçage : le gouvernent...</td>\n",
       "      <td>NaN</td>\n",
       "      <td>FranceInsoumise</td>\n",
       "      <td>2025-02-11 09:22:52</td>\n",
       "      <td>5</td>\n",
       "      <td>2025</td>\n",
       "      <td>2</td>\n",
       "      <td>Feb</td>\n",
       "      <td>Feb-2025</td>\n",
       "    </tr>\n",
       "  </tbody>\n",
       "</table>\n",
       "</div>"
      ],
      "text/plain": [
       "        id   author                                              title Text  \\\n",
       "0  1jk8ild  Nohan07  Macron propose d'expulser les locataires des H...  NaN   \n",
       "1  1j6cwa4  Nohan07    Ukraine - Russie : Macron fait n'importe quoi !  NaN   \n",
       "2  1iuxpxt  Nohan07  Le pacte secret entre Macron et Le Pen ! – Pan...  NaN   \n",
       "3  1it9v25  Nohan07         Marine Le Pen a soutenu un ami de Macron ￼  NaN   \n",
       "4  1imtylh  Nohan07  Fichage, surveillance, traçage : le gouvernent...  NaN   \n",
       "\n",
       "         subreddit              created  score  year  month month_name  \\\n",
       "0  FranceInsoumise  2025-03-26 11:22:51      2  2025      3        Mar   \n",
       "1  FranceInsoumise  2025-03-08 09:34:16      2  2025      3        Mar   \n",
       "2  FranceInsoumise  2025-02-21 19:20:55      3  2025      2        Feb   \n",
       "3  FranceInsoumise  2025-02-19 17:39:24      5  2025      2        Feb   \n",
       "4  FranceInsoumise  2025-02-11 09:22:52      5  2025      2        Feb   \n",
       "\n",
       "     period  \n",
       "0  Mar-2025  \n",
       "1  Mar-2025  \n",
       "2  Feb-2025  \n",
       "3  Feb-2025  \n",
       "4  Feb-2025  "
      ]
     },
     "execution_count": 5,
     "metadata": {},
     "output_type": "execute_result"
    }
   ],
   "source": [
    "import datetime\n",
    "import time\n",
    "import os\n",
    "import calendar\n",
    "\n",
    "df_nd.loc[:, 'year'] = pd.to_datetime(df_nd.created, format='%Y-%m-%d %H:%M:%S').dt.year\n",
    "df_nd.loc[:, 'month'] = pd.to_datetime(df_nd.created, format='%Y-%m-%d %H:%M:%S').dt.month\n",
    "df_nd['month_name'] = df_nd[\"month\"].apply(lambda x: calendar.month_abbr[x])\n",
    "cols=[\"month_name\",\"year\"]\n",
    "df_nd['period'] = df_nd[cols].apply(lambda x: '-'.join(x.values.astype(str)), axis=\"columns\")\n",
    "df_nd.head()"
   ]
  },
  {
   "cell_type": "code",
   "execution_count": 6,
   "metadata": {},
   "outputs": [],
   "source": [
    "mandat_year=[]\n",
    "for i in df_nd.index:\n",
    "    if df_nd['month'][i] >= 5:\n",
    "        mandat_year.append(df_nd['year'][i]-2017)\n",
    "    else:\n",
    "        mandat_year.append(df_nd['year'][i]-2018)"
   ]
  },
  {
   "cell_type": "code",
   "execution_count": 7,
   "metadata": {},
   "outputs": [
    {
     "data": {
      "text/html": [
       "<div>\n",
       "<style scoped>\n",
       "    .dataframe tbody tr th:only-of-type {\n",
       "        vertical-align: middle;\n",
       "    }\n",
       "\n",
       "    .dataframe tbody tr th {\n",
       "        vertical-align: top;\n",
       "    }\n",
       "\n",
       "    .dataframe thead th {\n",
       "        text-align: right;\n",
       "    }\n",
       "</style>\n",
       "<table border=\"1\" class=\"dataframe\">\n",
       "  <thead>\n",
       "    <tr style=\"text-align: right;\">\n",
       "      <th></th>\n",
       "      <th>id</th>\n",
       "      <th>author</th>\n",
       "      <th>title</th>\n",
       "      <th>Text</th>\n",
       "      <th>subreddit</th>\n",
       "      <th>created</th>\n",
       "      <th>score</th>\n",
       "      <th>year</th>\n",
       "      <th>month</th>\n",
       "      <th>month_name</th>\n",
       "      <th>period</th>\n",
       "    </tr>\n",
       "    <tr>\n",
       "      <th>mandat</th>\n",
       "      <th></th>\n",
       "      <th></th>\n",
       "      <th></th>\n",
       "      <th></th>\n",
       "      <th></th>\n",
       "      <th></th>\n",
       "      <th></th>\n",
       "      <th></th>\n",
       "      <th></th>\n",
       "      <th></th>\n",
       "      <th></th>\n",
       "    </tr>\n",
       "  </thead>\n",
       "  <tbody>\n",
       "    <tr>\n",
       "      <th>4</th>\n",
       "      <td>119</td>\n",
       "      <td>15</td>\n",
       "      <td>119</td>\n",
       "      <td>11</td>\n",
       "      <td>3</td>\n",
       "      <td>119</td>\n",
       "      <td>24</td>\n",
       "      <td>2</td>\n",
       "      <td>8</td>\n",
       "      <td>8</td>\n",
       "      <td>8</td>\n",
       "    </tr>\n",
       "    <tr>\n",
       "      <th>5</th>\n",
       "      <td>251</td>\n",
       "      <td>24</td>\n",
       "      <td>249</td>\n",
       "      <td>1</td>\n",
       "      <td>5</td>\n",
       "      <td>250</td>\n",
       "      <td>26</td>\n",
       "      <td>2</td>\n",
       "      <td>12</td>\n",
       "      <td>12</td>\n",
       "      <td>12</td>\n",
       "    </tr>\n",
       "    <tr>\n",
       "      <th>6</th>\n",
       "      <td>433</td>\n",
       "      <td>32</td>\n",
       "      <td>422</td>\n",
       "      <td>2</td>\n",
       "      <td>6</td>\n",
       "      <td>433</td>\n",
       "      <td>31</td>\n",
       "      <td>2</td>\n",
       "      <td>12</td>\n",
       "      <td>12</td>\n",
       "      <td>12</td>\n",
       "    </tr>\n",
       "    <tr>\n",
       "      <th>7</th>\n",
       "      <td>201</td>\n",
       "      <td>34</td>\n",
       "      <td>197</td>\n",
       "      <td>0</td>\n",
       "      <td>6</td>\n",
       "      <td>201</td>\n",
       "      <td>61</td>\n",
       "      <td>2</td>\n",
       "      <td>12</td>\n",
       "      <td>12</td>\n",
       "      <td>12</td>\n",
       "    </tr>\n",
       "  </tbody>\n",
       "</table>\n",
       "</div>"
      ],
      "text/plain": [
       "         id  author  title  Text  subreddit  created  score  year  month  \\\n",
       "mandat                                                                     \n",
       "4       119      15    119    11          3      119     24     2      8   \n",
       "5       251      24    249     1          5      250     26     2     12   \n",
       "6       433      32    422     2          6      433     31     2     12   \n",
       "7       201      34    197     0          6      201     61     2     12   \n",
       "\n",
       "        month_name  period  \n",
       "mandat                      \n",
       "4                8       8  \n",
       "5               12      12  \n",
       "6               12      12  \n",
       "7               12      12  "
      ]
     },
     "execution_count": 7,
     "metadata": {},
     "output_type": "execute_result"
    }
   ],
   "source": [
    "df_nd['mandat'] = mandat_year\n",
    "df_nd.groupby('mandat').nunique()"
   ]
  },
  {
   "cell_type": "code",
   "execution_count": 8,
   "metadata": {},
   "outputs": [
    {
     "data": {
      "text/html": [
       "<div>\n",
       "<style scoped>\n",
       "    .dataframe tbody tr th:only-of-type {\n",
       "        vertical-align: middle;\n",
       "    }\n",
       "\n",
       "    .dataframe tbody tr th {\n",
       "        vertical-align: top;\n",
       "    }\n",
       "\n",
       "    .dataframe thead th {\n",
       "        text-align: right;\n",
       "    }\n",
       "</style>\n",
       "<table border=\"1\" class=\"dataframe\">\n",
       "  <thead>\n",
       "    <tr style=\"text-align: right;\">\n",
       "      <th></th>\n",
       "      <th>id</th>\n",
       "      <th>author</th>\n",
       "      <th>title</th>\n",
       "      <th>Text</th>\n",
       "      <th>subreddit</th>\n",
       "      <th>created</th>\n",
       "      <th>score</th>\n",
       "      <th>year</th>\n",
       "      <th>month</th>\n",
       "      <th>month_name</th>\n",
       "      <th>period</th>\n",
       "      <th>mandat</th>\n",
       "    </tr>\n",
       "  </thead>\n",
       "  <tbody>\n",
       "    <tr>\n",
       "      <th>999</th>\n",
       "      <td>1847pf8</td>\n",
       "      <td>konbini</td>\n",
       "      <td>Gérard Collomb, ancien maire de Lyon et ancien...</td>\n",
       "      <td>NaN</td>\n",
       "      <td>franceinfo</td>\n",
       "      <td>2023-11-26 11:16:42</td>\n",
       "      <td>0</td>\n",
       "      <td>2023</td>\n",
       "      <td>11</td>\n",
       "      <td>Nov</td>\n",
       "      <td>Nov-2023</td>\n",
       "      <td>6</td>\n",
       "    </tr>\n",
       "    <tr>\n",
       "      <th>1000</th>\n",
       "      <td>154qm6b</td>\n",
       "      <td>konbini</td>\n",
       "      <td>Alors, ça dit quoi ce remaniement d’Emmanuel M...</td>\n",
       "      <td>NaN</td>\n",
       "      <td>franceinfo</td>\n",
       "      <td>2023-07-20 15:14:05</td>\n",
       "      <td>0</td>\n",
       "      <td>2023</td>\n",
       "      <td>7</td>\n",
       "      <td>Jul</td>\n",
       "      <td>Jul-2023</td>\n",
       "      <td>6</td>\n",
       "    </tr>\n",
       "    <tr>\n",
       "      <th>1001</th>\n",
       "      <td>123sc94</td>\n",
       "      <td>DrogDrill</td>\n",
       "      <td>Il faut faire tomber le gouvernement Macron!</td>\n",
       "      <td>NaN</td>\n",
       "      <td>franceinfo</td>\n",
       "      <td>2023-03-27 18:31:34</td>\n",
       "      <td>1</td>\n",
       "      <td>2023</td>\n",
       "      <td>3</td>\n",
       "      <td>Mar</td>\n",
       "      <td>Mar-2023</td>\n",
       "      <td>5</td>\n",
       "    </tr>\n",
       "    <tr>\n",
       "      <th>1002</th>\n",
       "      <td>yn0om1</td>\n",
       "      <td>infofrance</td>\n",
       "      <td>Emmanuel Macron ne sera pas au départ de la Ro...</td>\n",
       "      <td>NaN</td>\n",
       "      <td>franceinfo</td>\n",
       "      <td>2022-11-05 18:36:54</td>\n",
       "      <td>1</td>\n",
       "      <td>2022</td>\n",
       "      <td>11</td>\n",
       "      <td>Nov</td>\n",
       "      <td>Nov-2022</td>\n",
       "      <td>5</td>\n",
       "    </tr>\n",
       "    <tr>\n",
       "      <th>1003</th>\n",
       "      <td>y72b5s</td>\n",
       "      <td>konbini</td>\n",
       "      <td>Macron félicite Benzema sur Twitter, la France...</td>\n",
       "      <td>NaN</td>\n",
       "      <td>franceinfo</td>\n",
       "      <td>2022-10-18 11:38:11</td>\n",
       "      <td>0</td>\n",
       "      <td>2022</td>\n",
       "      <td>10</td>\n",
       "      <td>Oct</td>\n",
       "      <td>Oct-2022</td>\n",
       "      <td>5</td>\n",
       "    </tr>\n",
       "  </tbody>\n",
       "</table>\n",
       "</div>"
      ],
      "text/plain": [
       "           id      author                                              title  \\\n",
       "999   1847pf8     konbini  Gérard Collomb, ancien maire de Lyon et ancien...   \n",
       "1000  154qm6b     konbini  Alors, ça dit quoi ce remaniement d’Emmanuel M...   \n",
       "1001  123sc94   DrogDrill       Il faut faire tomber le gouvernement Macron!   \n",
       "1002   yn0om1  infofrance  Emmanuel Macron ne sera pas au départ de la Ro...   \n",
       "1003   y72b5s     konbini  Macron félicite Benzema sur Twitter, la France...   \n",
       "\n",
       "     Text   subreddit              created  score  year  month month_name  \\\n",
       "999   NaN  franceinfo  2023-11-26 11:16:42      0  2023     11        Nov   \n",
       "1000  NaN  franceinfo  2023-07-20 15:14:05      0  2023      7        Jul   \n",
       "1001  NaN  franceinfo  2023-03-27 18:31:34      1  2023      3        Mar   \n",
       "1002  NaN  franceinfo  2022-11-05 18:36:54      1  2022     11        Nov   \n",
       "1003  NaN  franceinfo  2022-10-18 11:38:11      0  2022     10        Oct   \n",
       "\n",
       "        period  mandat  \n",
       "999   Nov-2023       6  \n",
       "1000  Jul-2023       6  \n",
       "1001  Mar-2023       5  \n",
       "1002  Nov-2022       5  \n",
       "1003  Oct-2022       5  "
      ]
     },
     "execution_count": 8,
     "metadata": {},
     "output_type": "execute_result"
    }
   ],
   "source": [
    "df_nd.tail()"
   ]
  },
  {
   "cell_type": "code",
   "execution_count": null,
   "metadata": {},
   "outputs": [],
   "source": []
  },
  {
   "cell_type": "code",
   "execution_count": null,
   "metadata": {},
   "outputs": [],
   "source": []
  },
  {
   "cell_type": "code",
   "execution_count": null,
   "metadata": {},
   "outputs": [],
   "source": []
  },
  {
   "cell_type": "markdown",
   "metadata": {},
   "source": [
    "# Analyse initiale des données brutes"
   ]
  },
  {
   "cell_type": "markdown",
   "metadata": {},
   "source": [
    "## Hashtag les plus utilisés\n",
    "\n",
    "On va utiliser les expressions régulières (regex) pour définir un modèle qui repère les hashtags dans le texte.\n",
    "Une fois extraits, on construira un dictionnaire : chaque clé sera un hashtag, et chaque valeur indiquera combien de fois ce hashtag a été utilisé.\n",
    "\n",
    "/!\\ Cette approche peut être utilisée pour tous types de données si vous souhaitez faire une recherche d'un mot spécifique dans le texte.\n",
    "    Il suffit seulement d'adapter les cellules qui suivent à vos données.. /!\\"
   ]
  },
  {
   "cell_type": "code",
   "execution_count": 9,
   "metadata": {},
   "outputs": [],
   "source": [
    "import re\n",
    "#To see the most used hashtags.\n",
    "hashtags = []\n",
    "hashtag_pattern = re.compile(r\"\\#[a-zA-Z]+\")\n",
    "hashtag_matches = list(df_nd['title'].apply(hashtag_pattern.findall))\n",
    "hashtag_dict = {}\n",
    "for match in hashtag_matches:\n",
    "    for singlematch in match:\n",
    "        if singlematch not in hashtag_dict.keys():\n",
    "            hashtag_dict[singlematch] = 1\n",
    "        else:\n",
    "            hashtag_dict[singlematch] = hashtag_dict[singlematch]+1"
   ]
  },
  {
   "cell_type": "code",
   "execution_count": 13,
   "metadata": {},
   "outputs": [],
   "source": [
    "#Making a list of the most used hashtags and their values\n",
    "hashtag_ordered_list = sorted(hashtag_dict.items(), key=lambda x:x[1])\n",
    "hashtag_ordered_list = hashtag_ordered_list[::-1]\n",
    "#Separating the hashtags and their values into two different lists\n",
    "hashtag_ordered_values = []\n",
    "hashtag_ordered_keys = []\n",
    "#Pick the 20 most used hashtags to plot\n",
    "for item in hashtag_ordered_list[0:200]:\n",
    "    hashtag_ordered_keys.append(item[0])\n",
    "    hashtag_ordered_values.append(item[1])"
   ]
  },
  {
   "cell_type": "code",
   "execution_count": 14,
   "metadata": {},
   "outputs": [
    {
     "data": {
      "text/plain": [
       "['#AFP',\n",
       " '#Macron',\n",
       " '#AFPTV',\n",
       " '#Retraites',\n",
       " '#QAG',\n",
       " '#papillomavirus',\n",
       " '#Na',\n",
       " '#Covid',\n",
       " '#Biden',\n",
       " '#Scholz',\n",
       " '#Papillomavirus',\n",
       " '#IVG',\n",
       " '#SavinesLeLac',\n",
       " '#afpgraphics',\n",
       " '#promulgation',\n",
       " '#AFPVertical',\n",
       " '#Noum',\n",
       " '#McKinseyGate',\n",
       " '#MacronArena',\n",
       " '#Castex',\n",
       " '#stadedefrance',\n",
       " '#rugby',\n",
       " '#KarlOlive',\n",
       " '#macron',\n",
       " '#d',\n",
       " '#surveillance',\n",
       " '#cessezlefeu',\n",
       " '#Gaza',\n",
       " '#franceinsoumise',\n",
       " '#politique',\n",
       " '#MarcheDestitution']"
      ]
     },
     "execution_count": 14,
     "metadata": {},
     "output_type": "execute_result"
    }
   ],
   "source": [
    "hashtag_ordered_keys"
   ]
  },
  {
   "cell_type": "code",
   "execution_count": 23,
   "metadata": {},
   "outputs": [
    {
     "data": {
      "image/png": "[encoded data removed]",
      "text/plain": [
       "<Figure size 900x700 with 1 Axes>"
      ]
     },
     "metadata": {},
     "output_type": "display_data"
    }
   ],
   "source": [
    "#Plotting a graph with the most used hashtags\n",
    "import matplotlib.pyplot as plt\n",
    "import numpy as np\n",
    "\n",
    "fig, ax = plt.subplots(figsize = (9,7))\n",
    "y_pos = np.arange(len(hashtag_ordered_keys))\n",
    "ax.barh(y_pos ,list(hashtag_ordered_values), align='center',\n",
    "        color = 'lightblue', edgecolor = 'black', linewidth=1)\n",
    "ax.set_yticks(y_pos)\n",
    "ax.set_yticklabels(list(hashtag_ordered_keys))\n",
    "ax.set_xlabel(\"Nº of appereances\")\n",
    "ax.set_title(\"Most used #hashtags\", fontsize = 17)\n",
    "plt.tight_layout(pad=3)\n",
    "plt.show()"
   ]
  },
  {
   "cell_type": "code",
   "execution_count": 24,
   "metadata": {},
   "outputs": [
    {
     "data": {
      "image/png": "[encoded data removed]",
      "text/plain": [
       "<Figure size 500x500 with 1 Axes>"
      ]
     },
     "metadata": {},
     "output_type": "display_data"
    }
   ],
   "source": [
    "#Make a wordcloud plot of the most used hashtags, for this we need a #dictionary \n",
    "#where the keys are the words and the values are the number of #appearances\n",
    "from wordcloud import WordCloud\n",
    "hashtag_ordered_dict = {}\n",
    "for item in hashtag_ordered_list[0:200]:\n",
    "    hashtag_ordered_dict[item[0]] = item[1]\n",
    "wordcloud = WordCloud(width=1000, height=1000, random_state=21, max_font_size=200, background_color = 'white').generate_from_frequencies(hashtag_ordered_dict)\n",
    "plt.figure(figsize=(5, 5))\n",
    "plt.imshow(wordcloud, interpolation=\"bilinear\")\n",
    "plt.axis('off')\n",
    "\n",
    "plt.show()"
   ]
  }
 ],
 "metadata": {
  "kernelspec": {
   "display_name": "Python 3",
   "language": "python",
   "name": "python3"
  },
  "language_info": {
   "codemirror_mode": {
    "name": "ipython",
    "version": 3
   },
   "file_extension": ".py",
   "mimetype": "text/x-python",
   "name": "python",
   "nbconvert_exporter": "python",
   "pygments_lexer": "ipython3",
   "version": "3.10.9"
  }
 },
 "nbformat": 4,
 "nbformat_minor": 2
}
